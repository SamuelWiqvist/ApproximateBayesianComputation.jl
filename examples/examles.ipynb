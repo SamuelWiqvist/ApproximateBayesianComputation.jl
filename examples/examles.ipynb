{
 "cells": [
  {
   "cell_type": "markdown",
   "metadata": {},
   "source": [
    "# Examples for the `ABC` module\n",
    "\n",
    "This notebook contains one simple toy example for each algorithm in the `ABC` module. "
   ]
  },
  {
   "cell_type": "markdown",
   "metadata": {},
   "source": [
    "# Algorithms \n",
    "1. [ABC-RS](#alg_abcrs)\n",
    "2. [ABC-MCMC](#alg_abcmcmc)\n",
    "3. [ABC-PMC](#alg_abcpmc)\n"
   ]
  },
  {
   "cell_type": "markdown",
   "metadata": {},
   "source": [
    "Add module."
   ]
  },
  {
   "cell_type": "code",
   "execution_count": 9,
   "metadata": {
    "collapsed": false
   },
   "outputs": [
    {
     "data": {
      "text/plain": [
       "ABC"
      ]
     },
     "execution_count": 9,
     "metadata": {},
     "output_type": "execute_result"
    }
   ],
   "source": [
    "cd(\"..\")\n",
    "include(\"./src/ABC.jl\")\n",
    "cd(\"examples\")"
   ]
  },
  {
   "cell_type": "markdown",
   "metadata": {},
   "source": [
    "Add processors to run the ABC-RS algorithm in parallel. "
   ]
  },
  {
   "cell_type": "code",
   "execution_count": 10,
   "metadata": {
    "collapsed": false
   },
   "outputs": [
    {
     "data": {
      "text/plain": [
       "4-element Array{Int64,1}:\n",
       " 2\n",
       " 3\n",
       " 4\n",
       " 5"
      ]
     },
     "execution_count": 10,
     "metadata": {},
     "output_type": "execute_result"
    }
   ],
   "source": [
    "addprocs(4)"
   ]
  },
  {
   "cell_type": "markdown",
   "metadata": {},
   "source": [
    "Load packages. "
   ]
  },
  {
   "cell_type": "code",
   "execution_count": null,
   "metadata": {
    "collapsed": true
   },
   "outputs": [],
   "source": [
    "@everywhere using ABC\n",
    "@everywhere using Distributions\n",
    "@everywhere using StatsBase\n",
    "using KernelDensity\n",
    "using PyPlot\n"
   ]
  },
  {
   "cell_type": "markdown",
   "metadata": {},
   "source": [
    "## Example using the ABC-RS  algorithm <a name=\"alg_abcrs\"></a>\n",
    "\n",
    "We will noe consider the Beta-Binomial model which is a model where the data model is a Binomial distrbution with paramaters $m$ and $p$, and the prior distribution is a Beta distribution with parameters $\\alpha$ and $\\beta$.  We can write the model as \n",
    "\n",
    "\\begin{align*}\n",
    "y &\\sim \\mathcal{B}(m, p), \\\\\n",
    "p &\\sim Beta(\\alpha, \\beta).\n",
    "\\end{align*}\n"
   ]
  },
  {
   "cell_type": "markdown",
   "metadata": {},
   "source": [
    "Sett up the data model for the Beta-Binomial model. "
   ]
  },
  {
   "cell_type": "code",
   "execution_count": 34,
   "metadata": {
    "collapsed": false
   },
   "outputs": [
    {
     "data": {
      "text/plain": [
       "5-element Array{Int64,1}:\n",
       " 2\n",
       " 4\n",
       " 4\n",
       " 3\n",
       " 3"
      ]
     },
     "execution_count": 34,
     "metadata": {},
     "output_type": "execute_result"
    }
   ],
   "source": [
    "# data model\n",
    "@everywhere m = 4;\n",
    "@everywhere n = 5;\n",
    "p = 0.7\n",
    "\n",
    "y = rand(Binomial(m,p),n) # generate data"
   ]
  },
  {
   "cell_type": "markdown",
   "metadata": {},
   "source": [
    "Set the prior distribution. "
   ]
  },
  {
   "cell_type": "code",
   "execution_count": 35,
   "metadata": {
    "collapsed": true
   },
   "outputs": [],
   "source": [
    "# prior distribution\n",
    "@everywhere α = 2 # hyper-parameters \n",
    "@everywhere β = 2\n",
    "\n",
    "@everywhere prior = Beta(α, β)"
   ]
  },
  {
   "cell_type": "markdown",
   "metadata": {},
   "source": [
    "Compute the analytical posterior distribution (we will use this as a reference for the ABC posterior later). "
   ]
  },
  {
   "cell_type": "code",
   "execution_count": 36,
   "metadata": {
    "collapsed": false
   },
   "outputs": [
    {
     "data": {
      "text/plain": [
       "Distributions.Beta{Float64}(α=18.0, β=6.0)"
      ]
     },
     "execution_count": 36,
     "metadata": {},
     "output_type": "execute_result"
    }
   ],
   "source": [
    "# posterior, the posterior is analytically known for the beta-binomial model\n",
    "posterior = Beta(α + sum(y), β + m*n - sum(y))\n"
   ]
  },
  {
   "cell_type": "markdown",
   "metadata": {},
   "source": [
    "Set up the functions needed for the ABC-RS algorithm. "
   ]
  },
  {
   "cell_type": "code",
   "execution_count": 37,
   "metadata": {
    "collapsed": true
   },
   "outputs": [],
   "source": [
    "# function to sample from prior distribution\n",
    "@everywhere sample_from_prior() = rand(prior)\n",
    "\n",
    "# funciton to generate data from the model\n",
    "@everywhere generate_data(p) = rand(Binomial(m,p),n)\n",
    "\n",
    "# the summery statistics are just the generated data set\n",
    "@everywhere calc_summary(y_star,y) = y_star\n",
    "\n",
    "# compute absolute distance between the data sets up to permutations of the data\n",
    "@everywhere ρ(s_star, s) = sum(abs.(sort(s_star)-sort(s)))\n",
    "\n",
    "# the ABC kernel (we will use the standard Uniform kernel here)\n",
    "@everywhere kernel(s_star::Vector, s::Vector, ϵ::Real, ρ::Function) = ABC.UniformKernel(s_star, s, ϵ, ρ)\n"
   ]
  },
  {
   "cell_type": "markdown",
   "metadata": {},
   "source": [
    "Create ABC rejection sampling problem. We are interested in computing exact Bayesin inference and we therefore set the threshold to zero. Hence, we will require an exact data match (up to permutations of the data) to accapt a proposal."
   ]
  },
  {
   "cell_type": "code",
   "execution_count": 38,
   "metadata": {
    "collapsed": false
   },
   "outputs": [
    {
     "data": {
      "text/plain": [
       "ABC.ABCRS(1000000, 0, ABC.Data([2, 4, 4, 3, 3]), 1, 8, 100000)"
      ]
     },
     "execution_count": 38,
     "metadata": {},
     "output_type": "execute_result"
    }
   ],
   "source": [
    "problem = ABC.ABCRS(10^6, 0, ABC.Data(y), 1, cores = length(workers()), print_interval = 100000)\n"
   ]
  },
  {
   "cell_type": "markdown",
   "metadata": {},
   "source": [
    "Run the ABC-RS algorithm. "
   ]
  },
  {
   "cell_type": "code",
   "execution_count": 40,
   "metadata": {
    "collapsed": false
   },
   "outputs": [
    {
     "name": "stdout",
     "output_type": "stream",
     "text": [
      "Starting ABC rejection sampling \n",
      "Running on 8 core(s)\n",
      "Accuracy: ϵ: 0.000000\n",
      "\tFrom worker 2:\tPercentage done (at each core): 0.00\n",
      "\tFrom worker 3:\tPercentage done (at each core): 0.00\n",
      "\tFrom worker 4:\tPercentage done (at each core): 0.00\n",
      "\tFrom worker 5:\tPercentage done (at each core): 0.00\n",
      "\tFrom worker 6:\tPercentage done (at each core): 0.00\n",
      "\tFrom worker 7:\tPercentage done (at each core): 0.00\n",
      "\tFrom worker 8:\tPercentage done (at each core): 0.00\n",
      "\tFrom worker 5:\tPercentage done (at each core): 80.00\n",
      "\tFrom worker 7:\tPercentage done (at each core): 80.00\n",
      "\tFrom worker 9:\tPercentage done (at each core): 0.00\n",
      "\tFrom worker 2:\tPercentage done (at each core): 80.00\n",
      "\tFrom worker 3:\tPercentage done (at each core): 80.00\n",
      "\tFrom worker 6:\tPercentage done (at each core): 80.00\n",
      "\tFrom worker 8:\tPercentage done (at each core): 80.00\n",
      "\tFrom worker 4:\tPercentage done (at each core): 80.00\n",
      "\tFrom worker 9:\tPercentage done (at each core): 80.00\n",
      "Ending ABC rejection sampling \n",
      "Accaptance rate: 0.00 %\n",
      "  0.431311 seconds (6.76 k allocations: 7.938 MiB)\n"
     ]
    },
    {
     "data": {
      "text/plain": [
       "1×0 Array{Float64,2}"
      ]
     },
     "execution_count": 40,
     "metadata": {},
     "output_type": "execute_result"
    }
   ],
   "source": [
    "approx_posterior_samples = @time ABC.sample(problem,\n",
    "                                            sample_from_prior,\n",
    "                                            generate_data,\n",
    "                                            calc_summary,\n",
    "                                            ρ,\n",
    "                                            kernel)"
   ]
  },
  {
   "cell_type": "markdown",
   "metadata": {},
   "source": [
    "Compute posterior qunatile intervals. "
   ]
  },
  {
   "cell_type": "code",
   "execution_count": 30,
   "metadata": {
    "collapsed": false
   },
   "outputs": [
    {
     "data": {
      "text/plain": [
       "0×2 Array{Float64,2}"
      ]
     },
     "execution_count": 30,
     "metadata": {},
     "output_type": "execute_result"
    }
   ],
   "source": [
    "posterior_quantile_interval = ABC.calcquantileint(approx_posterior_samples)"
   ]
  },
  {
   "cell_type": "markdown",
   "metadata": {},
   "source": [
    "Plot posterior distribution. "
   ]
  },
  {
   "cell_type": "code",
   "execution_count": 31,
   "metadata": {
    "collapsed": false
   },
   "outputs": [
    {
     "ename": "LoadError",
     "evalue": "\u001b[91mArgumentError: collection must be non-empty\u001b[39m",
     "output_type": "error",
     "traceback": [
      "\u001b[91mArgumentError: collection must be non-empty\u001b[39m",
      "",
      "Stacktrace:",
      " [1] \u001b[1mextrema\u001b[22m\u001b[22m\u001b[1m(\u001b[22m\u001b[22m::Array{Float64,1}\u001b[1m)\u001b[22m\u001b[22m at \u001b[1m.\\reduce.jl:491\u001b[22m\u001b[22m",
      " [2] \u001b[1mkde_boundary\u001b[22m\u001b[22m\u001b[1m(\u001b[22m\u001b[22m::Array{Float64,1}, ::Float64\u001b[1m)\u001b[22m\u001b[22m at \u001b[1mC:\\Users\\samuel\\.julia\\v0.6\\KernelDensity\\src\\univariate.jl:60\u001b[22m\u001b[22m",
      " [3] \u001b[1mkde\u001b[22m\u001b[22m\u001b[1m(\u001b[22m\u001b[22m::Array{Float64,1}\u001b[1m)\u001b[22m\u001b[22m at \u001b[1mC:\\Users\\samuel\\.julia\\v0.6\\KernelDensity\\src\\univariate.jl:156\u001b[22m\u001b[22m",
      " [4] \u001b[1minclude_string\u001b[22m\u001b[22m\u001b[1m(\u001b[22m\u001b[22m::String, ::String\u001b[1m)\u001b[22m\u001b[22m at \u001b[1m.\\loading.jl:515\u001b[22m\u001b[22m"
     ]
    }
   ],
   "source": [
    "# calc kernel density est. for approxiamte posterior\n",
    "kde_approx_posterior = kde(approx_posterior_samples[:])\n",
    "\n",
    "# plot results\n",
    "PyPlot.figure(figsize=(7,7))\n",
    "PyPlot.plot(kde_approx_posterior.x,kde_approx_posterior.density, \"b\")\n",
    "PyPlot.plot(0:0.01:1,pdf.(posterior, 0:0.01:1), \"r\")\n",
    "PyPlot.plot(0:0.01:1, pdf.(prior, 0:0.01:1), \"g\")\n",
    "PyPlot.plot((p, p), (0, maximum(kde_approx_posterior.density)), \"k\")\n",
    "PyPlot.xlabel(\"p\")\n",
    "PyPlot.ylabel(\"Density\")\n",
    "PyPlot.legend([\"ABC posterior\"; \"Analytical posterior\"; \"Prior\"; \"True value\"])"
   ]
  },
  {
   "cell_type": "markdown",
   "metadata": {},
   "source": [
    "## Example using the ABC-MCMC  algorithm <a name=\"alg_abcmcmc\"></a>\n",
    "\n",
    "We will here estimate the parameters for the g-and-k distibution using the ABC-MCMC algorithm. We will use a similar set up as in the paper \"Approximate maximum likelihood estimation using data-cloning ABC\"."
   ]
  },
  {
   "cell_type": "markdown",
   "metadata": {},
   "source": [
    "Set fixed paramete values."
   ]
  },
  {
   "cell_type": "code",
   "execution_count": 2,
   "metadata": {
    "collapsed": false
   },
   "outputs": [
    {
     "data": {
      "text/plain": [
       "0.8"
      ]
     },
     "execution_count": 2,
     "metadata": {},
     "output_type": "execute_result"
    }
   ],
   "source": [
    "N_data = 5*10^3 # nbr of observations\n",
    "c = 0.8 # fixed parameter"
   ]
  },
  {
   "cell_type": "markdown",
   "metadata": {},
   "source": [
    "Set up functions needed for the ABC-MCMC algorithm. "
   ]
  },
  {
   "cell_type": "code",
   "execution_count": 3,
   "metadata": {
    "collapsed": false
   },
   "outputs": [
    {
     "data": {
      "text/plain": [
       "ρ (generic function with 1 method)"
      ]
     },
     "execution_count": 3,
     "metadata": {},
     "output_type": "execute_result"
    }
   ],
   "source": [
    "\n",
    "# Sample from the Uniform prior distribution\n",
    "sample_from_prior() = rand(Uniform(0, 10),4)\n",
    "\n",
    "\n",
    "# Evaluate the prior dist on log-scale\n",
    "function  evaluate_prior(Θ::Vector)\n",
    "\n",
    "  # set start value for loglik\n",
    "  log_prior = 0.\n",
    "  for i = 1:length(Θ)\n",
    "    log_prior += ABC.log_unifpdf( Θ[i], 0, 10 )\n",
    "  end\n",
    "\n",
    "  return log_prior # return log_lik\n",
    "\n",
    "end\n",
    "\n",
    "# Generate data from the model\n",
    "function generate_data(Θ::Vector)\n",
    "\n",
    "  A = Θ[1]\n",
    "  B = Θ[2]\n",
    "  g = Θ[3]\n",
    "  k = Θ[4]\n",
    "\n",
    "  z = rand(Normal(0,1), N_data)\n",
    "\n",
    "  F_inv = similar(z)\n",
    "\n",
    "  @inbounds for i = 1:length(F_inv)\n",
    "    F_inv[i] = A + B*(1 + c*(1-exp(-g*z[i]))/(1+exp(-g*z[i])))*(1+z[i]^2)^k*z[i]\n",
    "  end\n",
    "\n",
    "  return F_inv\n",
    "\n",
    "end\n",
    "\n",
    "# Computes the summary statistics\n",
    "calc_summary(y_sim::Vector, y_obs::Vector) = [percentile(y_sim, [20;40;60;80]);skewness(y_sim)]\n",
    "\n",
    "# create distance function\n",
    "w  =  [0.22; 0.19; 0.53; 2.97; 1.90]\n",
    "ρ(s::Vector, s_star::Vector) = ABC.Euclidian(s::Vector, s_star::Vector, w)\n"
   ]
  },
  {
   "cell_type": "markdown",
   "metadata": {},
   "source": [
    "Generate data. "
   ]
  },
  {
   "cell_type": "code",
   "execution_count": 6,
   "metadata": {
    "collapsed": false
   },
   "outputs": [
    {
     "data": {
      "text/plain": [
       "ABC.Data([5.54013, 3.49795, 2.74626, 8.01145, 2.42494, 3.38408, 4.56217, 2.35585, 6.25486, 2.19045  …  4.69558, 3.19729, 2.63216, 2.48378, 4.32974, 2.45499, 2.32736, 2.26305, 2.67607, 2.78048])"
      ]
     },
     "execution_count": 6,
     "metadata": {},
     "output_type": "execute_result"
    }
   ],
   "source": [
    "# generate data set\n",
    "θ_true = [3; 1; 2; .5]\n",
    "y = generate_data(θ_true)\n",
    "data = ABC.Data(y)\n"
   ]
  },
  {
   "cell_type": "markdown",
   "metadata": {},
   "source": [
    "Set up ABC-MCMC problem. "
   ]
  },
  {
   "cell_type": "code",
   "execution_count": 7,
   "metadata": {
    "collapsed": false
   },
   "outputs": [
    {
     "data": {
      "text/plain": [
       "ABC.ABCMCMC(107000, 7000, [30.0, 30.0, 30.0, 30.0, 30.0, 30.0, 30.0, 30.0, 30.0, 30.0  …  0.3, 0.3, 0.3, 0.3, 0.3, 0.3, 0.3, 0.3, 0.3, 0.3], 4, [5, 5, 3, 2], \"none\", ABC.Data([5.54013, 3.49795, 2.74626, 8.01145, 2.42494, 3.38408, 4.56217, 2.35585, 6.25486, 2.19045  …  4.69558, 3.19729, 2.63216, 2.48378, 4.32974, 2.45499, 2.32736, 2.26305, 2.67607, 2.78048]), ABC.AMUpdate([1.0 0.0 0.0 0.0; 0.0 1.0 0.0 0.0; 0.0 0.0 1.0 0.0; 0.0 0.0 0.0 1.0], 1.2, 1.0, 0.7, 25), \"original\", 1000)"
      ]
     },
     "execution_count": 7,
     "metadata": {},
     "output_type": "execute_result"
    }
   ],
   "source": [
    "ϵ_seq = [30*ones(1000);20*ones(1000);10*ones(1000); 5*ones(1000); 2.5*ones(1000); 1*ones(1000); 0.5*ones(1000); 0.3*ones(100000)] # ; 0.05*ones(100000)\n",
    "burn_in = length(ϵ_seq)-100000\n",
    "N = length(ϵ_seq)\n",
    "dim_unknown = 4\n",
    "θ_start =  [5;5;3; 2] # fixed start values far away from the true parameter values\n",
    "adaptive_update = ABC.AMUpdate(eye(dim_unknown), 2.4/sqrt(dim_unknown), 1., 0.7, 25) # use the AM algorithm to tune the proposal distribution\n",
    "problem = ABC.ABCMCMC(N, burn_in, ϵ_seq, dim_unknown, θ_start, \"none\", data, adaptive_update, print_interval = 10000)\n"
   ]
  },
  {
   "cell_type": "markdown",
   "metadata": {},
   "source": [
    "Run the ABC-MCMC algorithm."
   ]
  },
  {
   "cell_type": "code",
   "execution_count": 8,
   "metadata": {
    "collapsed": false
   },
   "outputs": [
    {
     "name": "stdout",
     "output_type": "stream",
     "text": [
      "Starting ABC-MCMC estimating 4 parameters\n",
      "Adaptation algorithm: ABC.AMUpdate\n",
      "Iteration: 1\n",
      "Covariance:\n",
      "[1.44 0.0 0.0 0.0; 0.0 1.44 0.0 0.0; 0.0 0.0 1.44 0.0; 0.0 0.0 0.0 1.44]\n",
      "Percentage done: 0.93 % \n",
      "Acceptance rate on iteration 1 to 1000 is 36.5365 % \n",
      "Covariance:\n",
      "[6.13358 0.140941 -2.54285 0.590363; 0.140941 5.92376 -2.42337 -0.740281; -2.54285 -2.42337 13.4311 1.7039; 0.590363 -0.740281 1.7039 1.63133]\n",
      "Threshold: 20.0000 \n",
      "Percentage done: 1.87 % \n",
      "Acceptance rate on iteration 1001 to 2000 is 27.1271 % \n",
      "Covariance:\n",
      "[4.20501 2.66279 -0.483834 0.475824; 2.66279 9.19932 1.08129 -0.687618; -0.483834 1.08129 10.1157 0.555552; 0.475824 -0.687618 0.555552 1.01889]\n",
      "Threshold: 10.0000 \n",
      "Percentage done: 2.80 % \n",
      "Acceptance rate on iteration 2001 to 3000 is 23.6236 % \n",
      "Covariance:\n",
      "[0.93674 0.738704 -0.435247 -0.0530984; 0.738704 4.97853 1.11479 -0.471055; -0.435247 1.11479 9.34255 0.146693; -0.0530984 -0.471055 0.146693 0.578815]\n",
      "Threshold: 5.0000 \n",
      "Percentage done: 3.74 % \n",
      "Acceptance rate on iteration 3001 to 4000 is 19.9199 % \n",
      "Covariance:\n",
      "[0.227974 0.300259 -0.0477654 -0.0818031; 0.300259 2.35316 1.61085 -0.53336; -0.0477654 1.61085 9.95934 -0.919075; -0.0818031 -0.53336 -0.919075 0.786433]\n",
      "Threshold: 2.5000 \n",
      "Percentage done: 4.67 % \n",
      "Acceptance rate on iteration 4001 to 5000 is 19.9199 % \n",
      "Covariance:\n",
      "[0.0884107 0.147085 -0.227624 -0.00683072; 0.147085 0.893569 0.197704 -0.0719813; -0.227624 0.197704 8.3333 0.146223; -0.00683072 -0.0719813 0.146223 0.210034]\n",
      "Threshold: 1.0000 \n",
      "Percentage done: 5.61 % \n",
      "Acceptance rate on iteration 5001 to 6000 is 7.2072 % \n",
      "Covariance:\n",
      "[0.0361114 0.0279344 -0.246416 -0.00405506; 0.0279344 0.229113 0.584313 -0.028373; -0.246416 0.584313 8.86831 0.0315302; -0.00405506 -0.028373 0.0315302 0.0859501]\n",
      "Threshold: 0.5000 \n",
      "Percentage done: 6.54 % \n",
      "Acceptance rate on iteration 6001 to 7000 is 3.9039 % \n",
      "Covariance:\n",
      "[0.00756962 0.00511374 -0.0572214 -0.00327889; 0.00511374 0.0613289 0.171571 -0.00622738; -0.0572214 0.171571 2.10678 0.0384574; -0.00327889 -0.00622738 0.0384574 0.0239156]\n",
      "Threshold: 0.3000 \n",
      "Percentage done: 7.48 % \n",
      "Acceptance rate on iteration 7001 to 8000 is 7.0070 % \n",
      "Covariance:\n",
      "[0.00183499 0.00191719 -0.00936544 7.76039e-5; 0.00191719 0.0233854 0.0578768 -0.000888945; -0.00936544 0.0578768 0.447687 0.00746408; 7.76039e-5 -0.000888945 0.00746408 0.00895765]\n",
      "Threshold: 0.3000 \n",
      "Percentage done: 8.41 % \n",
      "Acceptance rate on iteration 8001 to 9000 is 14.2142 % \n",
      "Covariance:\n",
      "[0.00111852 0.00184135 -0.0023098 0.000254784; 0.00184135 0.0162027 0.0332081 -0.000388925; -0.0023098 0.0332081 0.175812 0.00361023; 0.000254784 -0.000388925 0.00361023 0.00746504]\n",
      "Threshold: 0.3000 \n",
      "Percentage done: 9.35 % \n",
      "Acceptance rate on iteration 9001 to 10000 is 20.1201 % \n",
      "Covariance:\n",
      "[0.00127988 0.00179625 -0.0039186 -0.000853259; 0.00179625 0.0131703 0.0227247 -0.00287385; -0.0039186 0.0227247 0.140188 0.0102398; -0.000853259 -0.00287385 0.0102398 0.00938655]\n",
      "Threshold: 0.3000 \n",
      "Percentage done: 10.28 % \n",
      "Acceptance rate on iteration 10001 to 11000 is 19.0190 % \n",
      "Covariance:\n",
      "[0.00121265 0.00235944 -0.00240868 -0.000748939; 0.00235944 0.0173094 0.0299651 -0.00157797; -0.00240868 0.0299651 0.155369 0.012536; -0.000748939 -0.00157797 0.012536 0.00809193]\n",
      "Threshold: 0.3000 \n",
      "Percentage done: 11.21 % \n",
      "Acceptance rate on iteration 11001 to 12000 is 21.4214 % \n",
      "Covariance:\n",
      "[0.00105746 0.00150093 -0.00232414 9.77552e-5; 0.00150093 0.0157794 0.0296421 -0.00219642; -0.00232414 0.0296421 0.135464 0.00555489; 9.77552e-5 -0.00219642 0.00555489 0.00908191]\n",
      "Threshold: 0.3000 \n",
      "Percentage done: 12.15 % \n",
      "Acceptance rate on iteration 12001 to 13000 is 22.2222 % \n",
      "Covariance:\n",
      "[0.00124509 0.00113956 -0.00473141 -0.000322176; 0.00113956 0.0121164 0.0257208 -0.000485163; -0.00473141 0.0257208 0.151205 0.0106679; -0.000322176 -0.000485163 0.0106679 0.00683441]\n",
      "Threshold: 0.3000 \n",
      "Percentage done: 13.08 % \n",
      "Acceptance rate on iteration 13001 to 14000 is 20.0200 % \n",
      "Covariance:\n",
      "[0.00128747 0.0016636 -0.00482158 -0.00106829; 0.0016636 0.0141893 0.0242123 -0.00308034; -0.00482158 0.0242123 0.134792 0.00923323; -0.00106829 -0.00308034 0.00923323 0.0092112]\n",
      "Threshold: 0.3000 \n",
      "Percentage done: 14.02 % \n",
      "Acceptance rate on iteration 14001 to 15000 is 19.8198 % \n",
      "Covariance:\n",
      "[0.00148675 0.00170312 -0.00558599 -0.000913218; 0.00170312 0.0152335 0.0299295 -0.00302904; -0.00558599 0.0299295 0.176699 0.0104244; -0.000913218 -0.00302904 0.0104244 0.00878469]\n",
      "Threshold: 0.3000 \n",
      "Percentage done: 14.95 % \n",
      "Acceptance rate on iteration 15001 to 16000 is 17.7177 % \n",
      "Covariance:\n",
      "[0.00132154 0.0014755 -0.00492927 -0.000821459; 0.0014755 0.0153252 0.0327297 -0.00189404; -0.00492927 0.0327297 0.18215 0.0171511; -0.000821459 -0.00189404 0.0171511 0.0109783]\n",
      "Threshold: 0.3000 \n",
      "Percentage done: 15.89 % \n",
      "Acceptance rate on iteration 16001 to 17000 is 17.1171 % \n",
      "Covariance:\n",
      "[0.00135007 0.00191233 -0.00191006 0.000109949; 0.00191233 0.0153679 0.0286994 -0.0013008; -0.00191006 0.0286994 0.134911 0.00999096; 0.000109949 -0.0013008 0.00999096 0.00986746]\n",
      "Threshold: 0.3000 \n",
      "Percentage done: 16.82 % \n",
      "Acceptance rate on iteration 17001 to 18000 is 16.8168 % \n",
      "Covariance:\n",
      "[0.0014306 0.00188025 -0.00413151 -0.000237723; 0.00188025 0.0166577 0.0346555 -0.00236241; -0.00413151 0.0346555 0.180214 0.00573661; -0.000237723 -0.00236241 0.00573661 0.00864259]\n",
      "Threshold: 0.3000 \n",
      "Percentage done: 17.76 % \n",
      "Acceptance rate on iteration 18001 to 19000 is 15.9159 % \n",
      "Covariance:\n",
      "[0.00146729 0.00182974 -0.00519827 -0.000628433; 0.00182974 0.0164537 0.0345834 -0.00100114; -0.00519827 0.0345834 0.188285 0.0114885; -0.000628433 -0.00100114 0.0114885 0.00930925]\n",
      "Threshold: 0.3000 \n",
      "Percentage done: 18.69 % \n",
      "Acceptance rate on iteration 19001 to 20000 is 17.5175 % \n",
      "Covariance:\n",
      "[0.00151357 0.0020995 -0.00419595 -0.000449465; 0.0020995 0.0172992 0.0326971 -0.00135364; -0.00419595 0.0326971 0.163886 0.00905989; -0.000449465 -0.00135364 0.00905989 0.00815582]\n",
      "Threshold: 0.3000 \n",
      "Percentage done: 19.63 % \n",
      "Acceptance rate on iteration 20001 to 21000 is 17.8178 % \n",
      "Covariance:\n",
      "[0.00149324 0.00184863 -0.00520027 -0.000430687; 0.00184863 0.0162866 0.0329311 -0.00160948; -0.00520027 0.0329311 0.175794 0.00854655; -0.000430687 -0.00160948 0.00854655 0.00766058]\n",
      "Threshold: 0.3000 \n",
      "Percentage done: 20.56 % \n",
      "Acceptance rate on iteration 21001 to 22000 is 21.1211 % \n",
      "Covariance:\n",
      "[0.00143398 0.00191122 -0.00394215 -0.00043494; 0.00191122 0.0144684 0.0281253 -0.00134507; -0.00394215 0.0281253 0.151981 0.00934151; -0.00043494 -0.00134507 0.00934151 0.00805464]\n",
      "Threshold: 0.3000 \n",
      "Percentage done: 21.50 % \n",
      "Acceptance rate on iteration 22001 to 23000 is 21.5215 % \n",
      "Covariance:\n",
      "[0.00133665 0.00191144 -0.00388047 -0.000658401; 0.00191144 0.0156526 0.0321641 -0.000337222; -0.00388047 0.0321641 0.167968 0.0155686; -0.000658401 -0.000337222 0.0155686 0.0092246]\n",
      "Threshold: 0.3000 \n",
      "Percentage done: 22.43 % \n",
      "Acceptance rate on iteration 23001 to 24000 is 18.3183 % \n",
      "Covariance:\n",
      "[0.00129438 0.00211697 -0.00351434 -0.000645992; 0.00211697 0.0149331 0.0239489 -0.00127851; -0.00351434 0.0239489 0.147242 0.0145805; -0.000645992 -0.00127851 0.0145805 0.00909381]\n",
      "Threshold: 0.3000 \n",
      "Percentage done: 23.36 % \n",
      "Acceptance rate on iteration 24001 to 25000 is 19.0190 % \n",
      "Covariance:\n",
      "[0.00131837 0.0025088 -0.00247141 -0.00100933; 0.0025088 0.0161232 0.0271581 -0.00172554; -0.00247141 0.0271581 0.158905 0.0158236; -0.00100933 -0.00172554 0.0158236 0.00876859]\n",
      "Threshold: 0.3000 \n",
      "Percentage done: 24.30 % \n",
      "Acceptance rate on iteration 25001 to 26000 is 18.9189 % \n",
      "Covariance:\n",
      "[0.00151447 0.00343904 -0.000867405 -0.0010912; 0.00343904 0.0186425 0.0267674 -0.00330597; -0.000867405 0.0267674 0.12653 0.00891766; -0.0010912 -0.00330597 0.00891766 0.00795347]\n",
      "Threshold: 0.3000 \n",
      "Percentage done: 25.23 % \n",
      "Acceptance rate on iteration 26001 to 27000 is 18.8188 % \n",
      "Covariance:\n",
      "[0.00136204 0.00228175 -0.00303375 -0.00117605; 0.00228175 0.0164189 0.0312933 -0.00145471; -0.00303375 0.0312933 0.162468 0.014273; -0.00117605 -0.00145471 0.014273 0.00873224]\n",
      "Threshold: 0.3000 \n",
      "Percentage done: 26.17 % \n",
      "Acceptance rate on iteration 27001 to 28000 is 18.8188 % \n",
      "Covariance:\n",
      "[0.00134904 0.00201298 -0.00298236 -0.000445359; 0.00201298 0.0151442 0.0264389 -0.00306427; -0.00298236 0.0264389 0.134494 0.00721162; -0.000445359 -0.00306427 0.00721162 0.0101611]\n",
      "Threshold: 0.3000 \n",
      "Percentage done: 27.10 % \n",
      "Acceptance rate on iteration 28001 to 29000 is 18.9189 % \n",
      "Covariance:\n",
      "[0.00144791 0.0020968 -0.00427313 -0.000750315; 0.0020968 0.015565 0.0290532 -0.00140845; -0.00427313 0.0290532 0.165326 0.015367; -0.000750315 -0.00140845 0.015367 0.00957306]\n",
      "Threshold: 0.3000 \n",
      "Percentage done: 28.04 % \n",
      "Acceptance rate on iteration 29001 to 30000 is 19.8198 % \n",
      "Covariance:\n",
      "[0.00141013 0.00225773 -0.00304261 -0.0006308; 0.00225773 0.0156007 0.0290173 -0.00160562; -0.00304261 0.0290173 0.161832 0.0164459; -0.0006308 -0.00160562 0.0164459 0.0103339]\n",
      "Threshold: 0.3000 \n",
      "Percentage done: 28.97 % \n",
      "Acceptance rate on iteration 30001 to 31000 is 20.4204 % \n",
      "Covariance:\n",
      "[0.00129453 0.00191757 -0.0035619 -0.00089647; 0.00191757 0.0150662 0.0284093 -0.00187064; -0.0035619 0.0284093 0.161919 0.0188926; -0.00089647 -0.00187064 0.0188926 0.0109279]\n",
      "Threshold: 0.3000 \n",
      "Percentage done: 29.91 % \n",
      "Acceptance rate on iteration 31001 to 32000 is 15.2152 % \n",
      "Covariance:\n",
      "[0.00166439 0.00229818 -0.00424031 -0.000905432; 0.00229818 0.0179134 0.0345535 -0.00286854; -0.00424031 0.0345535 0.177132 0.0147437; -0.000905432 -0.00286854 0.0147437 0.0117993]\n",
      "Threshold: 0.3000 \n",
      "Percentage done: 30.84 % \n",
      "Acceptance rate on iteration 32001 to 33000 is 18.8188 % \n",
      "Covariance:\n",
      "[0.00164811 0.00213265 -0.00490447 -0.000993317; 0.00213265 0.0184411 0.0391724 -0.0017236; -0.00490447 0.0391724 0.198807 0.0156667; -0.000993317 -0.0017236 0.0156667 0.0098267]\n",
      "Threshold: 0.3000 \n",
      "Percentage done: 31.78 % \n",
      "Acceptance rate on iteration 33001 to 34000 is 15.6156 % \n",
      "Covariance:\n",
      "[0.00142673 0.00225744 -0.00405183 -0.00119688; 0.00225744 0.0200543 0.034482 -0.00384277; -0.00405183 0.034482 0.170381 0.0158926; -0.00119688 -0.00384277 0.0158926 0.0134063]\n",
      "Threshold: 0.3000 \n",
      "Percentage done: 32.71 % \n",
      "Acceptance rate on iteration 34001 to 35000 is 18.3183 % \n",
      "Covariance:\n",
      "[0.00140643 0.00232901 -0.00296336 -0.00100179; 0.00232901 0.018729 0.033484 -0.00333069; -0.00296336 0.033484 0.157831 0.0125345; -0.00100179 -0.00333069 0.0125345 0.01142]\n",
      "Threshold: 0.3000 \n",
      "Percentage done: 33.64 % \n",
      "Acceptance rate on iteration 35001 to 36000 is 15.9159 % \n",
      "Covariance:\n",
      "[0.00118027 0.0022829 -0.00153215 -0.000716989; 0.0022829 0.0203781 0.0380918 -0.00422631; -0.00153215 0.0380918 0.154683 0.00627354; -0.000716989 -0.00422631 0.00627354 0.0120602]\n",
      "Threshold: 0.3000 \n",
      "Percentage done: 34.58 % \n",
      "Acceptance rate on iteration 36001 to 37000 is 17.1171 % \n",
      "Covariance:\n",
      "[0.00120088 0.0020772 -0.00260586 -0.000475126; 0.0020772 0.0203219 0.0395283 -0.00303479; -0.00260586 0.0395283 0.172822 0.00995489; -0.000475126 -0.00303479 0.00995489 0.0123074]\n",
      "Threshold: 0.3000 \n",
      "Percentage done: 35.51 % \n",
      "Acceptance rate on iteration 37001 to 38000 is 17.2172 % \n",
      "Covariance:\n",
      "[0.00124463 0.00198288 -0.00266174 -0.000433965; 0.00198288 0.0175964 0.0321878 -0.00292889; -0.00266174 0.0321878 0.149826 0.00913288; -0.000433965 -0.00292889 0.00913288 0.011809]\n",
      "Threshold: 0.3000 \n",
      "Percentage done: 36.45 % \n",
      "Acceptance rate on iteration 38001 to 39000 is 17.7177 % \n",
      "Covariance:\n",
      "[0.00121839 0.00160811 -0.00375822 -0.00058006; 0.00160811 0.0171918 0.0350092 -0.00245031; -0.00375822 0.0350092 0.17348 0.0113248; -0.00058006 -0.00245031 0.0113248 0.0109006]\n",
      "Threshold: 0.3000 \n",
      "Percentage done: 37.38 % \n",
      "Acceptance rate on iteration 39001 to 40000 is 15.6156 % \n",
      "Covariance:\n",
      "[0.00136766 0.00176848 -0.00437616 -0.000525324; 0.00176848 0.0162209 0.0304638 -0.00313194; -0.00437616 0.0304638 0.155497 0.00811247; -0.000525324 -0.00313194 0.00811247 0.0108995]\n",
      "Threshold: 0.3000 \n",
      "Percentage done: 38.32 % \n",
      "Acceptance rate on iteration 40001 to 41000 is 17.6176 % \n",
      "Covariance:\n",
      "[0.00137067 0.00163091 -0.00444596 -0.00031926; 0.00163091 0.017798 0.0361303 -0.00252495; -0.00444596 0.0361303 0.168744 0.00732308; -0.00031926 -0.00252495 0.00732308 0.00948821]\n",
      "Threshold: 0.3000 \n",
      "Percentage done: 39.25 % \n",
      "Acceptance rate on iteration 41001 to 42000 is 18.5185 % \n",
      "Covariance:\n",
      "[0.00124037 0.00133574 -0.00507879 -0.000655549; 0.00133574 0.0173532 0.0343886 -0.00277398; -0.00507879 0.0343886 0.170031 0.00842118; -0.000655549 -0.00277398 0.00842118 0.00910686]\n",
      "Threshold: 0.3000 \n",
      "Percentage done: 40.19 % \n",
      "Acceptance rate on iteration 42001 to 43000 is 19.9199 % \n",
      "Covariance:\n",
      "[0.00116286 0.00165832 -0.0035035 -0.000534528; 0.00165832 0.0174528 0.0333083 -0.00260712; -0.0035035 0.0333083 0.161166 0.0104219; -0.000534528 -0.00260712 0.0104219 0.00995331]\n",
      "Threshold: 0.3000 \n",
      "Percentage done: 41.12 % \n",
      "Acceptance rate on iteration 43001 to 44000 is 14.8148 % \n",
      "Covariance:\n",
      "[0.00127271 0.00173489 -0.00345908 -0.000439965; 0.00173489 0.0175914 0.0342924 -0.0022151; -0.00345908 0.0342924 0.165483 0.011948; -0.000439965 -0.0022151 0.011948 0.010324]\n",
      "Threshold: 0.3000 \n",
      "Percentage done: 42.06 % \n",
      "Acceptance rate on iteration 44001 to 45000 is 17.2172 % \n",
      "Covariance:\n",
      "[0.00142344 0.00191412 -0.00337896 -0.000120576; 0.00191412 0.0178331 0.034852 -0.00191549; -0.00337896 0.034852 0.166236 0.0118954; -0.000120576 -0.00191549 0.0118954 0.0105929]\n",
      "Threshold: 0.3000 \n",
      "Percentage done: 42.99 % \n",
      "Acceptance rate on iteration 45001 to 46000 is 18.6186 % \n",
      "Covariance:\n",
      "[0.00128419 0.00169899 -0.00355259 -0.000362073; 0.00169899 0.0162613 0.0314566 -0.00178567; -0.00355259 0.0314566 0.16141 0.0132576; -0.000362073 -0.00178567 0.0132576 0.0102324]\n",
      "Threshold: 0.3000 \n",
      "Percentage done: 43.93 % \n",
      "Acceptance rate on iteration 46001 to 47000 is 19.8198 % \n",
      "Covariance:\n",
      "[0.00120541 0.00163016 -0.00281419 -9.52419e-5; 0.00163016 0.0150351 0.0313951 -0.00135296; -0.00281419 0.0313951 0.156094 0.00999252; -9.52419e-5 -0.00135296 0.00999252 0.00968256]\n",
      "Threshold: 0.3000 \n",
      "Percentage done: 44.86 % \n",
      "Acceptance rate on iteration 47001 to 48000 is 17.9179 % \n",
      "Covariance:\n",
      "[0.00112767 0.00148143 -0.00379283 -0.000422936; 0.00148143 0.0136951 0.0261298 -0.00136224; -0.00379283 0.0261298 0.155947 0.0155478; -0.000422936 -0.00136224 0.0155478 0.0108425]\n",
      "Threshold: 0.3000 \n",
      "Percentage done: 45.79 % \n",
      "Acceptance rate on iteration 48001 to 49000 is 16.9169 % \n",
      "Covariance:\n",
      "[0.0012027 0.00170037 -0.00418359 -0.000420925; 0.00170037 0.0138706 0.0235426 -0.00187723; -0.00418359 0.0235426 0.153211 0.0153875; -0.000420925 -0.00187723 0.0153875 0.0110663]\n",
      "Threshold: 0.3000 \n",
      "Percentage done: 46.73 % \n",
      "Acceptance rate on iteration 49001 to 50000 is 17.3173 % \n",
      "Covariance:\n",
      "[0.00155077 0.00182414 -0.00513682 -0.000524262; 0.00182414 0.0128195 0.0202667 -0.00226646; -0.00513682 0.0202667 0.143023 0.0130308; -0.000524262 -0.00226646 0.0130308 0.0101981]\n",
      "Threshold: 0.3000 \n",
      "Percentage done: 47.66 % \n",
      "Acceptance rate on iteration 50001 to 51000 is 16.8168 % \n",
      "Covariance:\n",
      "[0.00146237 0.00215933 -0.00387611 -0.00046807; 0.00215933 0.0164194 0.029869 -0.00229168; -0.00387611 0.029869 0.162425 0.00941865; -0.00046807 -0.00229168 0.00941865 0.00847291]\n",
      "Threshold: 0.3000 \n",
      "Percentage done: 48.60 % \n",
      "Acceptance rate on iteration 51001 to 52000 is 17.7177 % \n",
      "Covariance:\n",
      "[0.0014215 0.00191801 -0.00371549 2.75306e-5; 0.00191801 0.0163827 0.0317568 -0.0022656; -0.00371549 0.0317568 0.159945 0.00628773; 2.75306e-5 -0.0022656 0.00628773 0.00984169]\n",
      "Threshold: 0.3000 \n",
      "Percentage done: 49.53 % \n",
      "Acceptance rate on iteration 52001 to 53000 is 16.2162 % \n",
      "Covariance:\n",
      "[0.00155348 0.00208449 -0.00438802 -0.000207064; 0.00208449 0.0164066 0.0280727 -0.00273702; -0.00438802 0.0280727 0.153927 0.00897737; -0.000207064 -0.00273702 0.00897737 0.00990778]\n",
      "Threshold: 0.3000 \n",
      "Percentage done: 50.47 % \n",
      "Acceptance rate on iteration 53001 to 54000 is 16.7167 % \n",
      "Covariance:\n",
      "[0.00134495 0.00162567 -0.00456784 -9.92445e-5; 0.00162567 0.0167933 0.0340147 -0.00218731; -0.00456784 0.0340147 0.17941 0.00926392; -9.92445e-5 -0.00218731 0.00926392 0.00930396]\n",
      "Threshold: 0.3000 \n",
      "Percentage done: 51.40 % \n",
      "Acceptance rate on iteration 54001 to 55000 is 17.1171 % \n",
      "Covariance:\n",
      "[0.00130677 0.00161591 -0.00381467 -0.000220149; 0.00161591 0.0171616 0.0362404 -0.00185385; -0.00381467 0.0362404 0.189747 0.0132285; -0.000220149 -0.00185385 0.0132285 0.00928015]\n",
      "Threshold: 0.3000 \n",
      "Percentage done: 52.34 % \n",
      "Acceptance rate on iteration 55001 to 56000 is 17.4174 % \n",
      "Covariance:\n",
      "[0.00139013 0.00145552 -0.00442402 -0.00044063; 0.00145552 0.0158213 0.033079 -0.00148878; -0.00442402 0.033079 0.175398 0.0122214; -0.00044063 -0.00148878 0.0122214 0.00853991]\n",
      "Threshold: 0.3000 \n",
      "Percentage done: 53.27 % \n",
      "Acceptance rate on iteration 56001 to 57000 is 17.0170 % \n",
      "Covariance:\n",
      "[0.00154998 0.00170913 -0.00495775 -0.000595112; 0.00170913 0.0158975 0.0312362 -0.00180256; -0.00495775 0.0312362 0.170638 0.0122228; -0.000595112 -0.00180256 0.0122228 0.00873739]\n",
      "Threshold: 0.3000 \n",
      "Percentage done: 54.21 % \n",
      "Acceptance rate on iteration 57001 to 58000 is 16.1161 % \n",
      "Covariance:\n",
      "[0.00142467 0.00187557 -0.00404533 -0.000444103; 0.00187557 0.0158231 0.0283031 -0.00198836; -0.00404533 0.0283031 0.149896 0.0105189; -0.000444103 -0.00198836 0.0105189 0.00979505]\n",
      "Threshold: 0.3000 \n",
      "Percentage done: 55.14 % \n",
      "Acceptance rate on iteration 58001 to 59000 is 17.2172 % \n",
      "Covariance:\n",
      "[0.00140205 0.00163551 -0.00383995 -0.000323176; 0.00163551 0.0166262 0.0355834 -0.0023507; -0.00383995 0.0355834 0.171676 0.00624535; -0.000323176 -0.0023507 0.00624535 0.00914848]\n",
      "Threshold: 0.3000 \n",
      "Percentage done: 56.07 % \n",
      "Acceptance rate on iteration 59001 to 60000 is 17.2172 % \n",
      "Covariance:\n",
      "[0.00137399 0.0018903 -0.00311724 -0.000432157; 0.0018903 0.0160059 0.0336374 -0.00159517; -0.00311724 0.0336374 0.165957 0.00873374; -0.000432157 -0.00159517 0.00873374 0.00863097]\n",
      "Threshold: 0.3000 \n",
      "Percentage done: 57.01 % \n",
      "Acceptance rate on iteration 60001 to 61000 is 17.4174 % \n",
      "Covariance:\n",
      "[0.00135963 0.00207214 -0.00360468 -0.000776266; 0.00207214 0.0166396 0.0308175 -0.00277107; -0.00360468 0.0308175 0.1653 0.00922977; -0.000776266 -0.00277107 0.00922977 0.00883473]\n",
      "Threshold: 0.3000 \n",
      "Percentage done: 57.94 % \n",
      "Acceptance rate on iteration 61001 to 62000 is 17.2172 % \n",
      "Covariance:\n",
      "[0.00127377 0.0016521 -0.0042421 -0.000865169; 0.0016521 0.0165482 0.03036 -0.00246634; -0.0042421 0.03036 0.157532 0.01108; -0.000865169 -0.00246634 0.01108 0.00963343]\n",
      "Threshold: 0.3000 \n",
      "Percentage done: 58.88 % \n",
      "Acceptance rate on iteration 62001 to 63000 is 19.3193 % \n",
      "Covariance:\n",
      "[0.00135112 0.00217746 -0.0028472 -0.000704097; 0.00217746 0.0191104 0.0347202 -0.00312876; -0.0028472 0.0347202 0.158241 0.00913729; -0.000704097 -0.00312876 0.00913729 0.00970323]\n",
      "Threshold: 0.3000 \n",
      "Percentage done: 59.81 % \n",
      "Acceptance rate on iteration 63001 to 64000 is 18.0180 % \n",
      "Covariance:\n",
      "[0.00142671 0.00210537 -0.00410187 -0.000960353; 0.00210537 0.0177808 0.0316634 -0.00299231; -0.00410187 0.0316634 0.163841 0.0119665; -0.000960353 -0.00299231 0.0119665 0.00996301]\n",
      "Threshold: 0.3000 \n",
      "Percentage done: 60.75 % \n",
      "Acceptance rate on iteration 64001 to 65000 is 17.0170 % \n",
      "Covariance:\n",
      "[0.00131783 0.00178216 -0.00426219 -0.000825862; 0.00178216 0.016936 0.0336081 -0.00262128; -0.00426219 0.0336081 0.176804 0.0125515; -0.000825862 -0.00262128 0.0125515 0.0103077]\n",
      "Threshold: 0.3000 \n",
      "Percentage done: 61.68 % \n",
      "Acceptance rate on iteration 65001 to 66000 is 15.5155 % \n",
      "Covariance:\n",
      "[0.00127637 0.00156885 -0.00535927 -0.00118058; 0.00156885 0.0167764 0.0334575 -0.00298986; -0.00535927 0.0334575 0.197546 0.0183184; -0.00118058 -0.00298986 0.0183184 0.0115175]\n",
      "Threshold: 0.3000 \n",
      "Percentage done: 62.62 % \n",
      "Acceptance rate on iteration 66001 to 67000 is 17.5175 % \n",
      "Covariance:\n",
      "[0.00127213 0.00183416 -0.00445006 -0.00105642; 0.00183416 0.017623 0.0347074 -0.00308892; -0.00445006 0.0347074 0.186699 0.0140591; -0.00105642 -0.00308892 0.0140591 0.0101387]\n",
      "Threshold: 0.3000 \n",
      "Percentage done: 63.55 % \n",
      "Acceptance rate on iteration 67001 to 68000 is 20.5205 % \n",
      "Covariance:\n",
      "[0.00127129 0.00152506 -0.00494052 -0.00102878; 0.00152506 0.0166143 0.0346238 -0.00235366; -0.00494052 0.0346238 0.182229 0.0134216; -0.00102878 -0.00235366 0.0134216 0.00917333]\n",
      "Threshold: 0.3000 \n",
      "Percentage done: 64.49 % \n",
      "Acceptance rate on iteration 68001 to 69000 is 16.6166 % \n",
      "Covariance:\n",
      "[0.0012528 0.00138197 -0.00442906 -0.000722747; 0.00138197 0.0163052 0.0337704 -0.00297067; -0.00442906 0.0337704 0.163508 0.00911097; -0.000722747 -0.00297067 0.00911097 0.0100718]\n",
      "Threshold: 0.3000 \n",
      "Percentage done: 65.42 % \n",
      "Acceptance rate on iteration 69001 to 70000 is 20.4204 % \n",
      "Covariance:\n",
      "[0.00134881 0.00154052 -0.0047794 -0.000605835; 0.00154052 0.0155957 0.0304795 -0.00262193; -0.0047794 0.0304795 0.154654 0.00829188; -0.000605835 -0.00262193 0.00829188 0.00928352]\n",
      "Threshold: 0.3000 \n",
      "Percentage done: 66.36 % \n",
      "Acceptance rate on iteration 70001 to 71000 is 18.0180 % \n",
      "Covariance:\n",
      "[0.00134817 0.00154716 -0.00499719 -0.000632191; 0.00154716 0.014704 0.0297857 -0.00215184; -0.00499719 0.0297857 0.162811 0.00889105; -0.000632191 -0.00215184 0.00889105 0.00913695]\n",
      "Threshold: 0.3000 \n",
      "Percentage done: 67.29 % \n",
      "Acceptance rate on iteration 71001 to 72000 is 16.3163 % \n",
      "Covariance:\n",
      "[0.00136045 0.00181439 -0.00460111 -0.0008738; 0.00181439 0.015265 0.0295354 -0.00257146; -0.00460111 0.0295354 0.165676 0.00997189; -0.0008738 -0.00257146 0.00997189 0.00963297]\n",
      "Threshold: 0.3000 \n",
      "Percentage done: 68.22 % \n",
      "Acceptance rate on iteration 72001 to 73000 is 16.1161 % \n",
      "Covariance:\n",
      "[0.00146776 0.00192539 -0.00488066 -0.000659064; 0.00192539 0.016275 0.0333121 -0.00189886; -0.00488066 0.0333121 0.181458 0.0114813; -0.000659064 -0.00189886 0.0114813 0.0098393]\n",
      "Threshold: 0.3000 \n",
      "Percentage done: 69.16 % \n",
      "Acceptance rate on iteration 73001 to 74000 is 16.8168 % \n",
      "Covariance:\n",
      "[0.00131519 0.0015392 -0.00470133 -0.00047043; 0.0015392 0.0157938 0.0327276 -0.00223402; -0.00470133 0.0327276 0.178937 0.011389; -0.00047043 -0.00223402 0.011389 0.0099305]\n",
      "Threshold: 0.3000 \n",
      "Percentage done: 70.09 % \n",
      "Acceptance rate on iteration 74001 to 75000 is 19.5195 % \n",
      "Covariance:\n",
      "[0.00134907 0.00164073 -0.00464789 -0.000586785; 0.00164073 0.015647 0.0308072 -0.0021249; -0.00464789 0.0308072 0.166207 0.0113792; -0.000586785 -0.0021249 0.0113792 0.00939069]\n",
      "Threshold: 0.3000 \n",
      "Percentage done: 71.03 % \n",
      "Acceptance rate on iteration 75001 to 76000 is 12.9129 % \n",
      "Covariance:\n",
      "[0.00151124 0.00184862 -0.00502919 -0.00022964; 0.00184862 0.0152389 0.0291147 -0.000815023; -0.00502919 0.0291147 0.165033 0.0169454; -0.00022964 -0.000815023 0.0169454 0.0142843]\n",
      "Threshold: 0.3000 \n",
      "Percentage done: 71.96 % \n",
      "Acceptance rate on iteration 76001 to 77000 is 16.5165 % \n",
      "Covariance:\n",
      "[0.00145885 0.0017207 -0.00509528 -0.000330494; 0.0017207 0.0151535 0.0303707 -0.00124511; -0.00509528 0.0303707 0.173699 0.0157401; -0.000330494 -0.00124511 0.0157401 0.0130052]\n",
      "Threshold: 0.3000 \n",
      "Percentage done: 72.90 % \n",
      "Acceptance rate on iteration 77001 to 78000 is 16.6166 % \n",
      "Covariance:\n",
      "[0.00145708 0.00161437 -0.0047524 -0.000120658; 0.00161437 0.0158143 0.0341827 -0.00168013; -0.0047524 0.0341827 0.182137 0.0113199; -0.000120658 -0.00168013 0.0113199 0.0113955]\n",
      "Threshold: 0.3000 \n",
      "Percentage done: 73.83 % \n",
      "Acceptance rate on iteration 78001 to 79000 is 16.7167 % \n",
      "Covariance:\n",
      "[0.00142299 0.00170434 -0.00433708 -0.000284914; 0.00170434 0.0158077 0.032649 -0.00204336; -0.00433708 0.032649 0.173377 0.011611; -0.000284914 -0.00204336 0.011611 0.0112942]\n",
      "Threshold: 0.3000 \n",
      "Percentage done: 74.77 % \n",
      "Acceptance rate on iteration 79001 to 80000 is 17.1171 % \n",
      "Covariance:\n",
      "[0.00141345 0.00147188 -0.0053545 -0.000317305; 0.00147188 0.0159511 0.0333439 -0.00188654; -0.0053545 0.0333439 0.179529 0.0106349; -0.000317305 -0.00188654 0.0106349 0.0104551]\n",
      "Threshold: 0.3000 \n",
      "Percentage done: 75.70 % \n",
      "Acceptance rate on iteration 80001 to 81000 is 16.0160 % \n",
      "Covariance:\n",
      "[0.00134659 0.00169145 -0.00466887 -0.000688402; 0.00169145 0.0164339 0.031758 -0.00298824; -0.00466887 0.031758 0.170696 0.0110256; -0.000688402 -0.00298824 0.0110256 0.0112159]\n",
      "Threshold: 0.3000 \n",
      "Percentage done: 76.64 % \n",
      "Acceptance rate on iteration 81001 to 82000 is 15.7157 % \n",
      "Covariance:\n",
      "[0.00143931 0.00206107 -0.00443527 -0.000567053; 0.00206107 0.0167198 0.0308293 -0.00262811; -0.00443527 0.0308293 0.168691 0.0103216; -0.000567053 -0.00262811 0.0103216 0.0106934]\n",
      "Threshold: 0.3000 \n",
      "Percentage done: 77.57 % \n",
      "Acceptance rate on iteration 82001 to 83000 is 15.8158 % \n",
      "Covariance:\n",
      "[0.00148731 0.00210809 -0.00369724 -0.000505278; 0.00210809 0.0163974 0.0297967 -0.00333845; -0.00369724 0.0297967 0.157122 0.00758289; -0.000505278 -0.00333845 0.00758289 0.0109553]\n",
      "Threshold: 0.3000 \n",
      "Percentage done: 78.50 % \n",
      "Acceptance rate on iteration 83001 to 84000 is 18.7187 % \n",
      "Covariance:\n",
      "[0.00143277 0.0018683 -0.00482602 -0.000867977; 0.0018683 0.0152008 0.0274979 -0.00327791; -0.00482602 0.0274979 0.162548 0.0114006; -0.000867977 -0.00327791 0.0114006 0.011631]\n",
      "Threshold: 0.3000 \n",
      "Percentage done: 79.44 % \n",
      "Acceptance rate on iteration 84001 to 85000 is 14.0140 % \n",
      "Covariance:\n",
      "[0.00137175 0.00170491 -0.00454274 -0.000666585; 0.00170491 0.0162588 0.0313198 -0.00256687; -0.00454274 0.0313198 0.169751 0.0118774; -0.000666585 -0.00256687 0.0118774 0.0109971]\n",
      "Threshold: 0.3000 \n",
      "Percentage done: 80.37 % \n",
      "Acceptance rate on iteration 85001 to 86000 is 14.3143 % \n",
      "Covariance:\n",
      "[0.00146907 0.00189042 -0.00389059 -0.00025981; 0.00189042 0.0165784 0.0318351 -0.00218795; -0.00389059 0.0318351 0.168539 0.0137968; -0.00025981 -0.00218795 0.0137968 0.0124314]\n",
      "Threshold: 0.3000 \n",
      "Percentage done: 81.31 % \n",
      "Acceptance rate on iteration 86001 to 87000 is 19.1191 % \n",
      "Covariance:\n",
      "[0.00133981 0.00169477 -0.00391752 -0.000283041; 0.00169477 0.0156223 0.0298229 -0.00214237; -0.00391752 0.0298229 0.159672 0.0126138; -0.000283041 -0.00214237 0.0126138 0.0117823]\n",
      "Threshold: 0.3000 \n",
      "Percentage done: 82.24 % \n",
      "Acceptance rate on iteration 87001 to 88000 is 17.0170 % \n",
      "Covariance:\n",
      "[0.0012964 0.00188594 -0.00360524 -0.000631649; 0.00188594 0.0172351 0.030226 -0.004005; -0.00360524 0.030226 0.157131 0.0110158; -0.000631649 -0.004005 0.0110158 0.0122185]\n",
      "Threshold: 0.3000 \n",
      "Percentage done: 83.18 % \n",
      "Acceptance rate on iteration 88001 to 89000 is 18.0180 % \n",
      "Covariance:\n",
      "[0.00130057 0.00175764 -0.00415043 -0.000771197; 0.00175764 0.0165519 0.0295603 -0.00372083; -0.00415043 0.0295603 0.160545 0.0122099; -0.000771197 -0.00372083 0.0122099 0.011797]\n",
      "Threshold: 0.3000 \n",
      "Percentage done: 84.11 % \n",
      "Acceptance rate on iteration 89001 to 90000 is 16.3163 % \n",
      "Covariance:\n",
      "[0.00145539 0.00212859 -0.00478123 -0.00128354; 0.00212859 0.0167823 0.0268019 -0.00451991; -0.00478123 0.0268019 0.157401 0.013109; -0.00128354 -0.00451991 0.013109 0.0117208]\n",
      "Threshold: 0.3000 \n",
      "Percentage done: 85.05 % \n",
      "Acceptance rate on iteration 90001 to 91000 is 18.3183 % \n",
      "Covariance:\n",
      "[0.00142997 0.00222476 -0.00458303 -0.00125895; 0.00222476 0.0177186 0.0275646 -0.00474499; -0.00458303 0.0275646 0.156611 0.0122454; -0.00125895 -0.00474499 0.0122454 0.0108135]\n",
      "Threshold: 0.3000 \n",
      "Percentage done: 85.98 % \n",
      "Acceptance rate on iteration 91001 to 92000 is 17.4174 % \n",
      "Covariance:\n",
      "[0.00141578 0.00211462 -0.00426371 -0.00114389; 0.00211462 0.0178789 0.0307956 -0.00445233; -0.00426371 0.0307956 0.164477 0.0103849; -0.00114389 -0.00445233 0.0103849 0.0102001]\n",
      "Threshold: 0.3000 \n",
      "Percentage done: 86.92 % \n",
      "Acceptance rate on iteration 92001 to 93000 is 20.4204 % \n",
      "Covariance:\n",
      "[0.00139082 0.00177869 -0.00529962 -0.000991577; 0.00177869 0.0162049 0.0297427 -0.00328016; -0.00529962 0.0297427 0.169237 0.0107252; -0.000991577 -0.00328016 0.0107252 0.00961509]\n",
      "Threshold: 0.3000 \n",
      "Percentage done: 87.85 % \n",
      "Acceptance rate on iteration 93001 to 94000 is 17.5175 % \n",
      "Covariance:\n",
      "[0.0012164 0.00162018 -0.0039091 -0.000602256; 0.00162018 0.0156094 0.0292086 -0.00269076; -0.0039091 0.0292086 0.158951 0.0125089; -0.000602256 -0.00269076 0.0125089 0.0108332]\n",
      "Threshold: 0.3000 \n",
      "Percentage done: 88.79 % \n",
      "Acceptance rate on iteration 94001 to 95000 is 19.5195 % \n",
      "Covariance:\n",
      "[0.00128125 0.00160089 -0.00390435 -0.000528951; 0.00160089 0.0150913 0.0296558 -0.00240524; -0.00390435 0.0296558 0.165192 0.0121178; -0.000528951 -0.00240524 0.0121178 0.0100153]\n",
      "Threshold: 0.3000 \n",
      "Percentage done: 89.72 % \n",
      "Acceptance rate on iteration 95001 to 96000 is 18.2182 % \n",
      "Covariance:\n",
      "[0.00128325 0.00169786 -0.00402941 -0.000643658; 0.00169786 0.0168117 0.0316953 -0.00311572; -0.00402941 0.0316953 0.162957 0.0106691; -0.000643658 -0.00311572 0.0106691 0.0105199]\n",
      "Threshold: 0.3000 \n",
      "Percentage done: 90.65 % \n",
      "Acceptance rate on iteration 96001 to 97000 is 15.7157 % \n",
      "Covariance:\n",
      "[0.00128602 0.00143968 -0.00482763 -0.000528463; 0.00143968 0.0163607 0.0323808 -0.00316008; -0.00482763 0.0323808 0.172783 0.011939; -0.000528463 -0.00316008 0.011939 0.0117005]\n",
      "Threshold: 0.3000 \n",
      "Percentage done: 91.59 % \n",
      "Acceptance rate on iteration 97001 to 98000 is 17.5175 % \n",
      "Covariance:\n",
      "[0.00126523 0.00163617 -0.0036762 -0.000389901; 0.00163617 0.016666 0.0337556 -0.0022505; -0.0036762 0.0337556 0.17184 0.013259; -0.000389901 -0.0022505 0.013259 0.0109314]\n",
      "Threshold: 0.3000 \n",
      "Percentage done: 92.52 % \n",
      "Acceptance rate on iteration 98001 to 99000 is 15.7157 % \n",
      "Covariance:\n",
      "[0.00132738 0.00186202 -0.00376041 -0.000324244; 0.00186202 0.0168121 0.0322339 -0.00309686; -0.00376041 0.0322339 0.169197 0.00980978; -0.000324244 -0.00309686 0.00980978 0.0113338]\n",
      "Threshold: 0.3000 \n",
      "Percentage done: 93.46 % \n",
      "Acceptance rate on iteration 99001 to 100000 is 17.8178 % \n",
      "Covariance:\n",
      "[0.00125577 0.00193674 -0.00293847 -0.000388906; 0.00193674 0.0166544 0.0319637 -0.00259161; -0.00293847 0.0319637 0.163305 0.0106591; -0.000388906 -0.00259161 0.0106591 0.0106101]\n",
      "Threshold: 0.3000 \n",
      "Percentage done: 94.39 % \n",
      "Acceptance rate on iteration 100001 to 101000 is 20.0200 % \n",
      "Covariance:\n",
      "[0.001346 0.00227325 -0.00249461 -0.000555224; 0.00227325 0.01674 0.0303994 -0.00257991; -0.00249461 0.0303994 0.155374 0.0105484; -0.000555224 -0.00257991 0.0105484 0.0102294]\n",
      "Threshold: 0.3000 \n",
      "Percentage done: 95.33 % \n",
      "Acceptance rate on iteration 101001 to 102000 is 18.2182 % \n",
      "Covariance:\n",
      "[0.00138222 0.00230654 -0.00353741 -0.000850314; 0.00230654 0.0164737 0.0280916 -0.00245892; -0.00353741 0.0280916 0.157434 0.0132236; -0.000850314 -0.00245892 0.0132236 0.0101545]\n",
      "Threshold: 0.3000 \n",
      "Percentage done: 96.26 % \n",
      "Acceptance rate on iteration 102001 to 103000 is 17.8178 % \n",
      "Covariance:\n",
      "[0.00132796 0.00229716 -0.00327163 -0.000753086; 0.00229716 0.0174337 0.0310014 -0.00249039; -0.00327163 0.0310014 0.163106 0.0121783; -0.000753086 -0.00249039 0.0121783 0.0102473]\n",
      "Threshold: 0.3000 \n",
      "Percentage done: 97.20 % \n",
      "Acceptance rate on iteration 103001 to 104000 is 17.1171 % \n",
      "Covariance:\n",
      "[0.00130256 0.00184148 -0.0041659 -0.000713572; 0.00184148 0.016433 0.032473 -0.00214056; -0.0041659 0.032473 0.173168 0.0118687; -0.000713572 -0.00214056 0.0118687 0.00954703]\n",
      "Threshold: 0.3000 \n",
      "Percentage done: 98.13 % \n",
      "Acceptance rate on iteration 104001 to 105000 is 18.9189 % \n",
      "Covariance:\n",
      "[0.00131437 0.00166616 -0.00403992 -0.0004554; 0.00166616 0.0151861 0.0310804 -0.00159915; -0.00403992 0.0310804 0.163683 0.0105781; -0.0004554 -0.00159915 0.0105781 0.0093318]\n",
      "Threshold: 0.3000 \n",
      "Percentage done: 99.07 % \n",
      "Acceptance rate on iteration 105001 to 106000 is 15.3153 % \n",
      "Covariance:\n",
      "[0.00129775 0.00185518 -0.00340062 -0.000502729; 0.00185518 0.0160914 0.0331628 -0.00183911; -0.00340062 0.0331628 0.167491 0.00947027; -0.000502729 -0.00183911 0.00947027 0.00940049]\n",
      "Threshold: 0.3000 \n",
      "Ending ABC-MCMC\n",
      "640.014222 seconds (14.89 G allocations: 242.405 GiB, 3.28% gc time)\n"
     ]
    },
    {
     "data": {
      "text/plain": [
       "4×107000 Array{Float64,2}:\n",
       " 5.0  3.73208  2.95738  2.95738  3.23382  …  3.0404    3.0404    3.0404  \n",
       " 5.0  5.1938   6.82849  6.82849  5.64672     1.06537   1.06537   1.06537 \n",
       " 3.0  1.31228  4.49546  4.49546  2.70685     1.97813   1.97813   1.97813 \n",
       " 2.0  1.68233  1.97649  1.97649  2.50829     0.538607  0.538607  0.538607"
      ]
     },
     "execution_count": 8,
     "metadata": {},
     "output_type": "execute_result"
    }
   ],
   "source": [
    "chain = @time ABC.sample(problem,\n",
    "                        sample_from_prior,\n",
    "                        evaluate_prior,\n",
    "                        generate_data,\n",
    "                        calc_summary,\n",
    "                        ρ)"
   ]
  },
  {
   "cell_type": "markdown",
   "metadata": {
    "collapsed": true
   },
   "source": [
    "Compute posterior quantile intervals. "
   ]
  },
  {
   "cell_type": "code",
   "execution_count": 9,
   "metadata": {
    "collapsed": false
   },
   "outputs": [
    {
     "data": {
      "text/plain": [
       "4×2 Array{Float64,2}:\n",
       " 2.9254    3.04184 \n",
       " 0.755768  1.15937 \n",
       " 1.52889   2.79408 \n",
       " 0.449543  0.775188"
      ]
     },
     "execution_count": 9,
     "metadata": {},
     "output_type": "execute_result"
    }
   ],
   "source": [
    "posterior_quantile_interval = ABC.calcquantileint(chain[:,burn_in+1:end])"
   ]
  },
  {
   "cell_type": "markdown",
   "metadata": {},
   "source": [
    "Compute RMSE for paramter estimations. "
   ]
  },
  {
   "cell_type": "code",
   "execution_count": null,
   "metadata": {
    "collapsed": true
   },
   "outputs": [],
   "source": [
    "RMSE(θ_true, mean(chain[:,burn_in+1:end],2))"
   ]
  },
  {
   "cell_type": "markdown",
   "metadata": {
    "collapsed": true
   },
   "source": [
    "Plot chains. "
   ]
  },
  {
   "cell_type": "code",
   "execution_count": 17,
   "metadata": {
    "collapsed": false
   },
   "outputs": [
    {
     "data": {
      "image/png": "[encoded data removed]",
      "text/plain": [
       "PyPlot.Figure(PyObject <matplotlib.figure.Figure object at 0x0000000044A73278>)"
      ]
     },
     "metadata": {},
     "output_type": "display_data"
    },
    {
     "data": {
      "text/plain": [
       "PyObject <matplotlib.text.Text object at 0x00000000466FDC50>"
      ]
     },
     "execution_count": 17,
     "metadata": {},
     "output_type": "execute_result"
    }
   ],
   "source": [
    "PyPlot.figure(figsize=(7,7))\n",
    "PyPlot.subplot(411)\n",
    "PyPlot.plot(chain[1,:])\n",
    "PyPlot.plot(ones(size(chain,2),1)*θ_true[1], \"k\")\n",
    "PyPlot.ylabel(L\"$A$\")\n",
    "PyPlot.subplot(412)\n",
    "PyPlot.plot(chain[2,:])\n",
    "PyPlot.plot(ones(size(chain,2),1)*θ_true[2], \"k\")\n",
    "PyPlot.ylabel(L\"$B$\")\n",
    "PyPlot.subplot(413)\n",
    "PyPlot.plot(chain[3,:])\n",
    "PyPlot.plot(ones(size(chain,2),1)*θ_true[3], \"k\")\n",
    "PyPlot.ylabel(L\"$g$\")\n",
    "PyPlot.subplot(414)\n",
    "PyPlot.plot(chain[4,:])\n",
    "PyPlot.plot(ones(size(chain,2),1)*θ_true[4], \"k\")\n",
    "PyPlot.xlabel(L\"Iteration\")\n",
    "PyPlot.ylabel(L\"$k$\")"
   ]
  },
  {
   "cell_type": "markdown",
   "metadata": {},
   "source": [
    "Plot chainsa after burn-in. "
   ]
  },
  {
   "cell_type": "code",
   "execution_count": 16,
   "metadata": {
    "collapsed": false
   },
   "outputs": [
    {
     "data": {
      "image/png": "[encoded data removed]",
      "text/plain": [
       "PyPlot.Figure(PyObject <matplotlib.figure.Figure object at 0x000000004601E0F0>)"
      ]
     },
     "metadata": {},
     "output_type": "display_data"
    },
    {
     "data": {
      "text/plain": [
       "PyObject <matplotlib.text.Text object at 0x0000000040D57208>"
      ]
     },
     "execution_count": 16,
     "metadata": {},
     "output_type": "execute_result"
    }
   ],
   "source": [
    "PyPlot.figure(figsize=(7,7))\n",
    "PyPlot.subplot(411)\n",
    "PyPlot.plot(chain[1,burn_in:end])\n",
    "PyPlot.plot(ones(size(chain[:,burn_in:end],2),1)*θ_true[1], \"k\")\n",
    "PyPlot.ylabel(L\"$A$\")\n",
    "PyPlot.subplot(412)\n",
    "PyPlot.plot(chain[2,burn_in:end])\n",
    "PyPlot.plot(ones(size(chain[:,burn_in:end],2),1)*θ_true[2], \"k\")\n",
    "PyPlot.ylabel(L\"$B$\")\n",
    "PyPlot.subplot(413)\n",
    "PyPlot.plot(chain[3,burn_in:end])\n",
    "PyPlot.plot(ones(size(chain[:,burn_in:end],2),1)*θ_true[3], \"k\")\n",
    "PyPlot.ylabel(L\"$g$\")\n",
    "PyPlot.subplot(414)\n",
    "PyPlot.plot(chain[4,burn_in:end])\n",
    "PyPlot.plot(ones(size(chain[:,burn_in:end],2),1)*θ_true[4], \"k\")\n",
    "PyPlot.xlabel(L\"Iteration\")\n",
    "PyPlot.ylabel(L\"$k$\")"
   ]
  },
  {
   "cell_type": "markdown",
   "metadata": {},
   "source": [
    "Plot marginal ABC posterior distributions. "
   ]
  },
  {
   "cell_type": "code",
   "execution_count": 15,
   "metadata": {
    "collapsed": false
   },
   "outputs": [
    {
     "data": {
      "image/png": "[encoded data removed]",
      "text/plain": [
       "PyPlot.Figure(PyObject <matplotlib.figure.Figure object at 0x0000000040D1CE48>)"
      ]
     },
     "metadata": {},
     "output_type": "display_data"
    },
    {
     "data": {
      "text/plain": [
       "PyObject <matplotlib.text.Text object at 0x000000004610F2E8>"
      ]
     },
     "execution_count": 15,
     "metadata": {},
     "output_type": "execute_result"
    }
   ],
   "source": [
    "# calc grid for prior dist\n",
    "x_grid = -0.5:0.01:10.5\n",
    "\n",
    "# calc prior dist\n",
    "priordensity = pdf.(Uniform(0, 10), x_grid)\n",
    "\n",
    "\n",
    "h1 = kde(chain[1,burn_in:end])\n",
    "h2 = kde(chain[2,burn_in:end])\n",
    "h3 = kde(chain[3,burn_in:end])\n",
    "h4 = kde(chain[4,burn_in:end])\n",
    "\n",
    "PyPlot.figure(figsize=(7,7))\n",
    "subplot(221)\n",
    "PyPlot.plot(h1.x,h1.density, \"b\")\n",
    "PyPlot.plot(x_grid,priordensity, \"g\")\n",
    "PyPlot.plot((θ_true[1], θ_true[1]), (0, maximum(h1.density)), \"k\")\n",
    "PyPlot.ylabel(L\"Density\")\n",
    "PyPlot.xlabel(L\"$A$\")\n",
    "subplot(222)\n",
    "PyPlot.plot(h2.x,h2.density, \"b\")\n",
    "PyPlot.plot(x_grid,priordensity, \"g\")\n",
    "PyPlot.plot((θ_true[2], θ_true[2]), (0, maximum(h2.density)), \"k\")\n",
    "PyPlot.xlabel(L\"$B$\")\n",
    "subplot(223)\n",
    "PyPlot.plot(h3.x,h3.density, \"b\")\n",
    "PyPlot.plot(x_grid,priordensity, \"g\")\n",
    "PyPlot.plot((θ_true[3], θ_true[3]), (0, maximum(h3.density)), \"k\")\n",
    "PyPlot.xlabel(L\"$g$\")\n",
    "PyPlot.ylabel(L\"Density\")\n",
    "subplot(224)\n",
    "PyPlot.plot(h4.x,h4.density, \"b\")\n",
    "PyPlot.plot(x_grid,priordensity, \"g\")\n",
    "PyPlot.plot((θ_true[4], θ_true[4]), (0, maximum(h4.density)), \"k\")\n",
    "PyPlot.xlabel(L\"$k$\")\n"
   ]
  },
  {
   "cell_type": "markdown",
   "metadata": {},
   "source": [
    "## Example using the ABC-PMC  algorithm <a name=\"alg_abcpmc\"></a>\n",
    "\n",
    "We will  here use the ABC-PMC algorithm to estimate the parameters of the MA(2) process."
   ]
  },
  {
   "cell_type": "markdown",
   "metadata": {},
   "source": [
    "Set fixed paramters. "
   ]
  },
  {
   "cell_type": "code",
   "execution_count": 3,
   "metadata": {
    "collapsed": true
   },
   "outputs": [],
   "source": [
    "@everywhere N_data = 100 # nbr of observations"
   ]
  },
  {
   "cell_type": "markdown",
   "metadata": {},
   "source": [
    "Set up functions needed for the ABC-PMC algorithm. "
   ]
  },
  {
   "cell_type": "code",
   "execution_count": 4,
   "metadata": {
    "collapsed": true
   },
   "outputs": [],
   "source": [
    "# prior distribtuion: The prior distribtuion: the parameters are defined on the triangle where -2 < θ_1 < 2, and  θ_1+θ_2 > 1, θ_1 - θ_2 < 1\n",
    "\n",
    "# Sample from the Uniform prior distribution\n",
    "@everywhere function sample_from_prior()\n",
    "\n",
    "  while true\n",
    "    θ_1 = rand(Uniform(-2,2))\n",
    "    θ_2 = rand(Uniform(-1,1))\n",
    "    if θ_2 + θ_1  >= -1 && θ_2 - θ_1 >= -1\n",
    "      return [θ_1; θ_2]\n",
    "    end\n",
    "  end\n",
    "\n",
    "end\n",
    "\n",
    "# Evaluate prior distribtuion\n",
    "@everywhere function evaluate_prior(Θ::Vector)\n",
    "  θ_1 = Θ[1]\n",
    "  θ_2 = Θ[2]\n",
    "  if abs(θ_1) <= 2 && abs(θ_2) <= 1 &&  θ_2 + θ_1  >= -1 && θ_2 - θ_1 >= -1\n",
    "    return 1.\n",
    "  else\n",
    "    return 0.\n",
    "  end\n",
    "end\n",
    "\n",
    "# Generate data from the model\n",
    "@everywhere function generate_data(Θ::Vector)\n",
    "\n",
    "  θ_1 = Θ[1]\n",
    "  θ_2 = Θ[2]\n",
    "\n",
    "  if abs(θ_1) <= 2 && abs(θ_2) <= 1 &&   θ_2 + θ_1  >= -1 && θ_2 - θ_1 >= -1\n",
    "\n",
    "    y = zeros(N_data)\n",
    "    ϵ = randn(N_data)\n",
    "\n",
    "    y[1] = ϵ[1]\n",
    "    y[2] = ϵ[2] - θ_1*y[1]\n",
    "\n",
    "    @inbounds for i = 3:N_data\n",
    "      y[i] = ϵ[i] + θ_1*ϵ[i-1] + θ_2*ϵ[i-2]\n",
    "    end\n",
    "\n",
    "    return y\n",
    "  else\n",
    "    return NaN*ones(N_data)\n",
    "  end\n",
    "\n",
    "end\n",
    "\n",
    "# Computes the summary statistics\"\n",
    "@everywhere calc_summary(y_sim::Vector, y_obs::Vector) = autocor(y_sim, 1:2)\n",
    "\n",
    "# distance function \n",
    "@everywhere ρ(s::Vector, s_star::Vector) = ABC.Euclidian(s, s_star, ones(2))\n",
    "\n"
   ]
  },
  {
   "cell_type": "markdown",
   "metadata": {},
   "source": [
    "Generate data. "
   ]
  },
  {
   "cell_type": "code",
   "execution_count": 5,
   "metadata": {
    "collapsed": false
   },
   "outputs": [
    {
     "data": {
      "text/plain": [
       "ABC.Data([-3.00347, 3.1666, 1.14752, -1.02552, -0.979654, -0.304443, 1.35599, 1.17067, 0.0969155, -0.743744  …  -0.500711, -1.16429, -2.90311, -1.92525, -1.07428, 1.61574, 1.89432, 1.21667, 0.39222, 0.783354])"
      ]
     },
     "execution_count": 5,
     "metadata": {},
     "output_type": "execute_result"
    }
   ],
   "source": [
    "# generate data set\n",
    "θ_true = [0.6; 0.2]\n",
    "y = generate_data(θ_true)\n",
    "data = ABC.Data(y)"
   ]
  },
  {
   "cell_type": "markdown",
   "metadata": {},
   "source": [
    "Plot data "
   ]
  },
  {
   "cell_type": "code",
   "execution_count": 6,
   "metadata": {
    "collapsed": false
   },
   "outputs": [
    {
     "data": {
      "image/png": "[encoded data removed]",
      "text/plain": [
       "PyPlot.Figure(PyObject <matplotlib.figure.Figure object at 0x0000000032E88668>)"
      ]
     },
     "metadata": {},
     "output_type": "display_data"
    },
    {
     "data": {
      "text/plain": [
       "PyObject <matplotlib.text.Text object at 0x00000000358B5470>"
      ]
     },
     "execution_count": 6,
     "metadata": {},
     "output_type": "execute_result"
    }
   ],
   "source": [
    "PyPlot.figure()\n",
    "PyPlot.plot(y)\n",
    "PyPlot.xlabel(\"t\")"
   ]
  },
  {
   "cell_type": "markdown",
   "metadata": {},
   "source": [
    "Set up ABC-PMC problem. "
   ]
  },
  {
   "cell_type": "code",
   "execution_count": 7,
   "metadata": {
    "collapsed": false
   },
   "outputs": [
    {
     "data": {
      "text/plain": [
       "ABC.PMCABC(6, 500, [2.0, 1.5, 1.0, 0.5, 0.1, 0.01], ABC.Data([-3.00347, 3.1666, 1.14752, -1.02552, -0.979654, -0.304443, 1.35599, 1.17067, 0.0969155, -0.743744  …  -0.500711, -1.16429, -2.90311, -1.92525, -1.07428, 1.61574, 1.89432, 1.21667, 0.39222, 0.783354]), 2, 4, 1)"
      ]
     },
     "execution_count": 7,
     "metadata": {},
     "output_type": "execute_result"
    }
   ],
   "source": [
    "ϵ_seq = [2; 1.5; 1; 0.5; 0.1; 0.01]\n",
    "T = length(ϵ_seq)\n",
    "N = 500\n",
    "dim_unknown = 2\n",
    "nbr_cores = 4\n",
    "problem = ABC.PMCABC(T,N,ϵ_seq,data,dim_unknown,cores = nbr_cores)\n"
   ]
  },
  {
   "cell_type": "markdown",
   "metadata": {},
   "source": [
    "Run ABC-PMC algorithm. "
   ]
  },
  {
   "cell_type": "code",
   "execution_count": 8,
   "metadata": {
    "collapsed": false
   },
   "outputs": [
    {
     "name": "stdout",
     "output_type": "stream",
     "text": [
      "Starting PMC-ABC \n",
      "Running on 4 core(s)\n",
      "Starting Threshold: ϵ: 2.0000\n",
      "Percentage done: 16.67 % \n",
      "Threshold (current iteration): 1.5000 \n",
      "Accaptace rate (previous iteration): 100.0000 %\n",
      "Percentage done: 33.33 % \n",
      "Threshold (current iteration): 1.0000 \n",
      "Accaptace rate (previous iteration): 64.2501 %\n",
      "Percentage done: 50.00 % \n",
      "Threshold (current iteration): 0.5000 \n",
      "Accaptace rate (previous iteration): 61.6771 %\n",
      "Percentage done: 66.67 % \n",
      "Threshold (current iteration): 0.1000 \n",
      "Accaptace rate (previous iteration): 47.6921 %\n",
      "Percentage done: 83.33 % \n",
      "Threshold (current iteration): 0.0100 \n",
      "Accaptace rate (previous iteration): 9.9295 %\n",
      "Accaptace rate (final iteration): 0.5612 %\n",
      "Ending PMC-ABC \n",
      " 23.993769 seconds (62.97 M allocations: 2.673 GiB, 1.87% gc time)\n"
     ]
    },
    {
     "data": {
      "text/plain": [
       "2×500 Array{Float64,2}:\n",
       " 0.573018  0.549952  0.657275  0.473131  …  0.492724  0.529537  0.426244 \n",
       " 0.259487  0.373097  0.505076  0.295312     0.38072   0.185509  0.0245821"
      ]
     },
     "execution_count": 8,
     "metadata": {},
     "output_type": "execute_result"
    }
   ],
   "source": [
    "approx_posterior_samples = @time ABC.sample(problem,\n",
    "                                            sample_from_prior,\n",
    "                                            evaluate_prior,\n",
    "                                            generate_data,\n",
    "                                            calc_summary,\n",
    "                                            ρ)"
   ]
  },
  {
   "cell_type": "markdown",
   "metadata": {},
   "source": [
    "Plot porsterior distribution. "
   ]
  },
  {
   "cell_type": "code",
   "execution_count": 9,
   "metadata": {
    "collapsed": false
   },
   "outputs": [
    {
     "data": {
      "image/png": "[encoded data removed]",
      "text/plain": [
       "PyPlot.Figure(PyObject <matplotlib.figure.Figure object at 0x00000000358CE438>)"
      ]
     },
     "metadata": {},
     "output_type": "display_data"
    },
    {
     "data": {
      "text/plain": [
       "PyObject <matplotlib.text.Text object at 0x00000000358B5828>"
      ]
     },
     "execution_count": 9,
     "metadata": {},
     "output_type": "execute_result"
    }
   ],
   "source": [
    "PyPlot.figure()\n",
    "PyPlot.plot((0,-2),(-1,1), \"g\")\n",
    "PyPlot.plot((-2,2),(1,1), \"g\")\n",
    "PyPlot.plot((0,2),(-1,1), \"g\")\n",
    "PyPlot.scatter(approx_posterior_samples[1,:],approx_posterior_samples[2,:])\n",
    "PyPlot.plot(θ_true[1],θ_true[2], \"k*\")\n",
    "PyPlot.xlabel(L\"$\\theta_1$\")\n",
    "PyPlot.ylabel(L\"$\\theta_2$\")\n"
   ]
  }
 ],
 "metadata": {
  "kernelspec": {
   "display_name": "Julia 0.6.0",
   "language": "julia",
   "name": "julia-0.6"
  },
  "language_info": {
   "file_extension": ".jl",
   "mimetype": "application/julia",
   "name": "julia",
   "version": "0.6.0"
  }
 },
 "nbformat": 4,
 "nbformat_minor": 2
}
